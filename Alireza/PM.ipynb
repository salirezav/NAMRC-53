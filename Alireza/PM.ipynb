{
 "cells": [
  {
   "cell_type": "code",
   "execution_count": 8,
   "metadata": {},
   "outputs": [],
   "source": [
    "# %matplotlib widget\n",
    "\n",
    "\n",
    "import os\n",
    "import pandas as pd\n",
    "import numpy as np\n",
    "from matplotlib import pyplot as plt\n",
    "import rispy\n",
    "import glob\n",
    "from pymed import PubMed"
   ]
  },
  {
   "cell_type": "code",
   "execution_count": 16,
   "metadata": {},
   "outputs": [],
   "source": [
    "ris_file = glob.glob(\"./PubMed/*.txt\")\n",
    "pubmed_file = \"./PubMed/p2.ris\""
   ]
  },
  {
   "cell_type": "code",
   "execution_count": 18,
   "metadata": {},
   "outputs": [
    {
     "ename": "ParseError",
     "evalue": "Missing end of record tag in line 65:\n TY  - 24997342\n",
     "output_type": "error",
     "traceback": [
      "\u001b[1;31m---------------------------------------------------------------------------\u001b[0m",
      "\u001b[1;31mParseError\u001b[0m                                Traceback (most recent call last)",
      "Cell \u001b[1;32mIn[18], line 3\u001b[0m\n\u001b[0;32m      1\u001b[0m \u001b[38;5;66;03m# Parse a single .ris file with multiple entries\u001b[39;00m\n\u001b[0;32m      2\u001b[0m \u001b[38;5;28;01mwith\u001b[39;00m \u001b[38;5;28mopen\u001b[39m(pubmed_file, \u001b[38;5;124m\"\u001b[39m\u001b[38;5;124mr\u001b[39m\u001b[38;5;124m\"\u001b[39m, encoding\u001b[38;5;241m=\u001b[39m\u001b[38;5;124m\"\u001b[39m\u001b[38;5;124mutf-8\u001b[39m\u001b[38;5;124m\"\u001b[39m) \u001b[38;5;28;01mas\u001b[39;00m file:\n\u001b[1;32m----> 3\u001b[0m     entries \u001b[38;5;241m=\u001b[39m \u001b[43mrispy\u001b[49m\u001b[38;5;241;43m.\u001b[39;49m\u001b[43mload\u001b[49m\u001b[43m(\u001b[49m\u001b[43mfile\u001b[49m\u001b[43m)\u001b[49m\n",
      "File \u001b[1;32md:\\anaconda3\\envs\\NAMRC\\Lib\\site-packages\\rispy\\parser.py:372\u001b[0m, in \u001b[0;36mload\u001b[1;34m(file, encoding, newline, implementation, **kw)\u001b[0m\n\u001b[0;32m    369\u001b[0m     parser \u001b[38;5;241m=\u001b[39m implementation\n\u001b[0;32m    371\u001b[0m \u001b[38;5;28;01mif\u001b[39;00m \u001b[38;5;28mhasattr\u001b[39m(file, \u001b[38;5;124m\"\u001b[39m\u001b[38;5;124mreadline\u001b[39m\u001b[38;5;124m\"\u001b[39m):\n\u001b[1;32m--> 372\u001b[0m     \u001b[38;5;28;01mreturn\u001b[39;00m \u001b[43mparser\u001b[49m\u001b[43m(\u001b[49m\u001b[43mnewline\u001b[49m\u001b[38;5;241;43m=\u001b[39;49m\u001b[43mnewline\u001b[49m\u001b[43m,\u001b[49m\u001b[43m \u001b[49m\u001b[38;5;241;43m*\u001b[39;49m\u001b[38;5;241;43m*\u001b[39;49m\u001b[43mkw\u001b[49m\u001b[43m)\u001b[49m\u001b[38;5;241;43m.\u001b[39;49m\u001b[43mparse_lines\u001b[49m\u001b[43m(\u001b[49m\u001b[43mfile\u001b[49m\u001b[43m)\u001b[49m\n\u001b[0;32m    373\u001b[0m \u001b[38;5;28;01melif\u001b[39;00m \u001b[38;5;28mhasattr\u001b[39m(file, \u001b[38;5;124m\"\u001b[39m\u001b[38;5;124mopen\u001b[39m\u001b[38;5;124m\"\u001b[39m):\n\u001b[0;32m    374\u001b[0m     \u001b[38;5;28;01mwith\u001b[39;00m file\u001b[38;5;241m.\u001b[39mopen(mode\u001b[38;5;241m=\u001b[39m\u001b[38;5;124m\"\u001b[39m\u001b[38;5;124mr\u001b[39m\u001b[38;5;124m\"\u001b[39m, newline\u001b[38;5;241m=\u001b[39mnewline, encoding\u001b[38;5;241m=\u001b[39mencoding) \u001b[38;5;28;01mas\u001b[39;00m f:\n",
      "File \u001b[1;32md:\\anaconda3\\envs\\NAMRC\\Lib\\site-packages\\rispy\\parser.py:135\u001b[0m, in \u001b[0;36mBaseParser.parse_lines\u001b[1;34m(self, lines)\u001b[0m\n\u001b[0;32m    133\u001b[0m \u001b[38;5;28;01mdef\u001b[39;00m \u001b[38;5;21mparse_lines\u001b[39m(\u001b[38;5;28mself\u001b[39m, lines: Union[TextIO, List[\u001b[38;5;28mstr\u001b[39m]]):\n\u001b[0;32m    134\u001b[0m \u001b[38;5;250m    \u001b[39m\u001b[38;5;124;03m\"\"\"Parse RIS file line by line.\"\"\"\u001b[39;00m\n\u001b[1;32m--> 135\u001b[0m     \u001b[38;5;28;01mreturn\u001b[39;00m \u001b[38;5;28mlist\u001b[39m(\u001b[38;5;28mself\u001b[39m\u001b[38;5;241m.\u001b[39m_yield_lines(lines))\n",
      "File \u001b[1;32md:\\anaconda3\\envs\\NAMRC\\Lib\\site-packages\\rispy\\parser.py:156\u001b[0m, in \u001b[0;36mBaseParser._yield_lines\u001b[1;34m(self, lines)\u001b[0m\n\u001b[0;32m    154\u001b[0m \u001b[38;5;28;01mif\u001b[39;00m \u001b[38;5;28mself\u001b[39m\u001b[38;5;241m.\u001b[39mis_tag(line):\n\u001b[0;32m    155\u001b[0m     \u001b[38;5;28;01mtry\u001b[39;00m:\n\u001b[1;32m--> 156\u001b[0m         \u001b[38;5;28;01myield\u001b[39;00m \u001b[38;5;28;43mself\u001b[39;49m\u001b[38;5;241;43m.\u001b[39;49m\u001b[43m_parse_tag\u001b[49m\u001b[43m(\u001b[49m\u001b[43mline\u001b[49m\u001b[43m)\u001b[49m\n\u001b[0;32m    157\u001b[0m         \u001b[38;5;28mself\u001b[39m\u001b[38;5;241m.\u001b[39mcurrent \u001b[38;5;241m=\u001b[39m {}\n\u001b[0;32m    158\u001b[0m         \u001b[38;5;28mself\u001b[39m\u001b[38;5;241m.\u001b[39min_ref \u001b[38;5;241m=\u001b[39m \u001b[38;5;28;01mFalse\u001b[39;00m\n",
      "File \u001b[1;32md:\\anaconda3\\envs\\NAMRC\\Lib\\site-packages\\rispy\\parser.py:179\u001b[0m, in \u001b[0;36mBaseParser._parse_tag\u001b[1;34m(self, line)\u001b[0m\n\u001b[0;32m    176\u001b[0m \u001b[38;5;28;01mif\u001b[39;00m tag \u001b[38;5;241m==\u001b[39m \u001b[38;5;28mself\u001b[39m\u001b[38;5;241m.\u001b[39mSTART_TAG:\n\u001b[0;32m    177\u001b[0m     \u001b[38;5;66;03m# New entry\u001b[39;00m\n\u001b[0;32m    178\u001b[0m     \u001b[38;5;28;01mif\u001b[39;00m \u001b[38;5;28mself\u001b[39m\u001b[38;5;241m.\u001b[39min_ref:\n\u001b[1;32m--> 179\u001b[0m         \u001b[38;5;28;01mraise\u001b[39;00m ParseError(\u001b[38;5;124mf\u001b[39m\u001b[38;5;124m\"\u001b[39m\u001b[38;5;124mMissing end of record tag in line \u001b[39m\u001b[38;5;132;01m{\u001b[39;00m\u001b[38;5;28mself\u001b[39m\u001b[38;5;241m.\u001b[39mline_number\u001b[38;5;132;01m}\u001b[39;00m\u001b[38;5;124m:\u001b[39m\u001b[38;5;130;01m\\n\u001b[39;00m\u001b[38;5;124m \u001b[39m\u001b[38;5;132;01m{\u001b[39;00mline\u001b[38;5;132;01m}\u001b[39;00m\u001b[38;5;124m\"\u001b[39m)\n\u001b[0;32m    180\u001b[0m     \u001b[38;5;28mself\u001b[39m\u001b[38;5;241m.\u001b[39m_add_tag(tag, line)\n\u001b[0;32m    181\u001b[0m     \u001b[38;5;28mself\u001b[39m\u001b[38;5;241m.\u001b[39min_ref \u001b[38;5;241m=\u001b[39m \u001b[38;5;28;01mTrue\u001b[39;00m\n",
      "\u001b[1;31mParseError\u001b[0m: Missing end of record tag in line 65:\n TY  - 24997342\n"
     ]
    }
   ],
   "source": [
    "# Parse a single .ris file with multiple entries\n",
    "with open(pubmed_file, \"r\", encoding=\"utf-8\") as file:\n",
    "    entries = rispy.load(file)"
   ]
  },
  {
   "cell_type": "code",
   "execution_count": 3,
   "metadata": {},
   "outputs": [
    {
     "ename": "ParserError",
     "evalue": "Error tokenizing data. C error: Expected 1 fields in line 14, saw 2\n",
     "output_type": "error",
     "traceback": [
      "\u001b[1;31m---------------------------------------------------------------------------\u001b[0m",
      "\u001b[1;31mParserError\u001b[0m                               Traceback (most recent call last)",
      "Cell \u001b[1;32mIn[3], line 1\u001b[0m\n\u001b[1;32m----> 1\u001b[0m pubmed_df \u001b[38;5;241m=\u001b[39m \u001b[43mpd\u001b[49m\u001b[38;5;241;43m.\u001b[39;49m\u001b[43mread_csv\u001b[49m\u001b[43m(\u001b[49m\u001b[43mpubmed_file\u001b[49m\u001b[43m)\u001b[49m\n",
      "File \u001b[1;32md:\\anaconda3\\envs\\NAMRC\\Lib\\site-packages\\pandas\\io\\parsers\\readers.py:1026\u001b[0m, in \u001b[0;36mread_csv\u001b[1;34m(filepath_or_buffer, sep, delimiter, header, names, index_col, usecols, dtype, engine, converters, true_values, false_values, skipinitialspace, skiprows, skipfooter, nrows, na_values, keep_default_na, na_filter, verbose, skip_blank_lines, parse_dates, infer_datetime_format, keep_date_col, date_parser, date_format, dayfirst, cache_dates, iterator, chunksize, compression, thousands, decimal, lineterminator, quotechar, quoting, doublequote, escapechar, comment, encoding, encoding_errors, dialect, on_bad_lines, delim_whitespace, low_memory, memory_map, float_precision, storage_options, dtype_backend)\u001b[0m\n\u001b[0;32m   1013\u001b[0m kwds_defaults \u001b[38;5;241m=\u001b[39m _refine_defaults_read(\n\u001b[0;32m   1014\u001b[0m     dialect,\n\u001b[0;32m   1015\u001b[0m     delimiter,\n\u001b[1;32m   (...)\u001b[0m\n\u001b[0;32m   1022\u001b[0m     dtype_backend\u001b[38;5;241m=\u001b[39mdtype_backend,\n\u001b[0;32m   1023\u001b[0m )\n\u001b[0;32m   1024\u001b[0m kwds\u001b[38;5;241m.\u001b[39mupdate(kwds_defaults)\n\u001b[1;32m-> 1026\u001b[0m \u001b[38;5;28;01mreturn\u001b[39;00m \u001b[43m_read\u001b[49m\u001b[43m(\u001b[49m\u001b[43mfilepath_or_buffer\u001b[49m\u001b[43m,\u001b[49m\u001b[43m \u001b[49m\u001b[43mkwds\u001b[49m\u001b[43m)\u001b[49m\n",
      "File \u001b[1;32md:\\anaconda3\\envs\\NAMRC\\Lib\\site-packages\\pandas\\io\\parsers\\readers.py:626\u001b[0m, in \u001b[0;36m_read\u001b[1;34m(filepath_or_buffer, kwds)\u001b[0m\n\u001b[0;32m    623\u001b[0m     \u001b[38;5;28;01mreturn\u001b[39;00m parser\n\u001b[0;32m    625\u001b[0m \u001b[38;5;28;01mwith\u001b[39;00m parser:\n\u001b[1;32m--> 626\u001b[0m     \u001b[38;5;28;01mreturn\u001b[39;00m \u001b[43mparser\u001b[49m\u001b[38;5;241;43m.\u001b[39;49m\u001b[43mread\u001b[49m\u001b[43m(\u001b[49m\u001b[43mnrows\u001b[49m\u001b[43m)\u001b[49m\n",
      "File \u001b[1;32md:\\anaconda3\\envs\\NAMRC\\Lib\\site-packages\\pandas\\io\\parsers\\readers.py:1923\u001b[0m, in \u001b[0;36mTextFileReader.read\u001b[1;34m(self, nrows)\u001b[0m\n\u001b[0;32m   1916\u001b[0m nrows \u001b[38;5;241m=\u001b[39m validate_integer(\u001b[38;5;124m\"\u001b[39m\u001b[38;5;124mnrows\u001b[39m\u001b[38;5;124m\"\u001b[39m, nrows)\n\u001b[0;32m   1917\u001b[0m \u001b[38;5;28;01mtry\u001b[39;00m:\n\u001b[0;32m   1918\u001b[0m     \u001b[38;5;66;03m# error: \"ParserBase\" has no attribute \"read\"\u001b[39;00m\n\u001b[0;32m   1919\u001b[0m     (\n\u001b[0;32m   1920\u001b[0m         index,\n\u001b[0;32m   1921\u001b[0m         columns,\n\u001b[0;32m   1922\u001b[0m         col_dict,\n\u001b[1;32m-> 1923\u001b[0m     ) \u001b[38;5;241m=\u001b[39m \u001b[38;5;28;43mself\u001b[39;49m\u001b[38;5;241;43m.\u001b[39;49m\u001b[43m_engine\u001b[49m\u001b[38;5;241;43m.\u001b[39;49m\u001b[43mread\u001b[49m\u001b[43m(\u001b[49m\u001b[43m  \u001b[49m\u001b[38;5;66;43;03m# type: ignore[attr-defined]\u001b[39;49;00m\n\u001b[0;32m   1924\u001b[0m \u001b[43m        \u001b[49m\u001b[43mnrows\u001b[49m\n\u001b[0;32m   1925\u001b[0m \u001b[43m    \u001b[49m\u001b[43m)\u001b[49m\n\u001b[0;32m   1926\u001b[0m \u001b[38;5;28;01mexcept\u001b[39;00m \u001b[38;5;167;01mException\u001b[39;00m:\n\u001b[0;32m   1927\u001b[0m     \u001b[38;5;28mself\u001b[39m\u001b[38;5;241m.\u001b[39mclose()\n",
      "File \u001b[1;32md:\\anaconda3\\envs\\NAMRC\\Lib\\site-packages\\pandas\\io\\parsers\\c_parser_wrapper.py:234\u001b[0m, in \u001b[0;36mCParserWrapper.read\u001b[1;34m(self, nrows)\u001b[0m\n\u001b[0;32m    232\u001b[0m \u001b[38;5;28;01mtry\u001b[39;00m:\n\u001b[0;32m    233\u001b[0m     \u001b[38;5;28;01mif\u001b[39;00m \u001b[38;5;28mself\u001b[39m\u001b[38;5;241m.\u001b[39mlow_memory:\n\u001b[1;32m--> 234\u001b[0m         chunks \u001b[38;5;241m=\u001b[39m \u001b[38;5;28;43mself\u001b[39;49m\u001b[38;5;241;43m.\u001b[39;49m\u001b[43m_reader\u001b[49m\u001b[38;5;241;43m.\u001b[39;49m\u001b[43mread_low_memory\u001b[49m\u001b[43m(\u001b[49m\u001b[43mnrows\u001b[49m\u001b[43m)\u001b[49m\n\u001b[0;32m    235\u001b[0m         \u001b[38;5;66;03m# destructive to chunks\u001b[39;00m\n\u001b[0;32m    236\u001b[0m         data \u001b[38;5;241m=\u001b[39m _concatenate_chunks(chunks)\n",
      "File \u001b[1;32mparsers.pyx:838\u001b[0m, in \u001b[0;36mpandas._libs.parsers.TextReader.read_low_memory\u001b[1;34m()\u001b[0m\n",
      "File \u001b[1;32mparsers.pyx:905\u001b[0m, in \u001b[0;36mpandas._libs.parsers.TextReader._read_rows\u001b[1;34m()\u001b[0m\n",
      "File \u001b[1;32mparsers.pyx:874\u001b[0m, in \u001b[0;36mpandas._libs.parsers.TextReader._tokenize_rows\u001b[1;34m()\u001b[0m\n",
      "File \u001b[1;32mparsers.pyx:891\u001b[0m, in \u001b[0;36mpandas._libs.parsers.TextReader._check_tokenize_status\u001b[1;34m()\u001b[0m\n",
      "File \u001b[1;32mparsers.pyx:2061\u001b[0m, in \u001b[0;36mpandas._libs.parsers.raise_parser_error\u001b[1;34m()\u001b[0m\n",
      "\u001b[1;31mParserError\u001b[0m: Error tokenizing data. C error: Expected 1 fields in line 14, saw 2\n"
     ]
    }
   ],
   "source": [
    "pubmed_df = pd.read_csv(pubmed_file)"
   ]
  },
  {
   "cell_type": "code",
   "execution_count": 23,
   "metadata": {},
   "outputs": [
    {
     "data": {
      "text/plain": [
       "Index(['PMID', 'Title', 'Authors', 'Citation', 'First Author', 'Journal/Book',\n",
       "       'Publication Year', 'Create Date', 'PMCID', 'NIHMS ID', 'DOI'],\n",
       "      dtype='object')"
      ]
     },
     "execution_count": 23,
     "metadata": {},
     "output_type": "execute_result"
    }
   ],
   "source": [
    "pubmed_df.columns"
   ]
  },
  {
   "cell_type": "code",
   "execution_count": 24,
   "metadata": {},
   "outputs": [],
   "source": [
    "# Dictionary mapping PubMed columns to WOS columns\n",
    "column_mapping = {\"PMID\": \"UT (Unique WOS ID)\", \"Title\": \"Article Title\", \"Authors\": \"Authors\", \"Journal/Book\": \"Source Title\", \"Publication Year\": \"Publication Year\", \"Create Date\": \"Publication Date\", \"DOI\": \"DOI\", \"Citation\": \"Volume\", \"First Author\": \"Author Full Names\", \"NIHMS ID\": \"ISSN\", \"PMCID\": \"Pubmed Id\"}  # Assuming Citation includes volume info  # Could vary depending on usage  # Adjust if not equivalent\n",
    "\n",
    "# Rename the columns in the DataFrame\n",
    "pubmed_df = pubmed_df.rename(columns=column_mapping)"
   ]
  },
  {
   "cell_type": "code",
   "execution_count": 26,
   "metadata": {},
   "outputs": [
    {
     "data": {
      "text/plain": [
       "Index(['UT (Unique WOS ID)', 'Article Title', 'Authors', 'Volume',\n",
       "       'Author Full Names', 'Source Title', 'Publication Year',\n",
       "       'Publication Date', 'Pubmed Id', 'ISSN', 'DOI'],\n",
       "      dtype='object')"
      ]
     },
     "execution_count": 26,
     "metadata": {},
     "output_type": "execute_result"
    }
   ],
   "source": [
    "pubmed_df.columns"
   ]
  },
  {
   "cell_type": "code",
   "execution_count": null,
   "metadata": {},
   "outputs": [],
   "source": []
  },
  {
   "cell_type": "code",
   "execution_count": 30,
   "metadata": {},
   "outputs": [
    {
     "name": "stdout",
     "output_type": "stream",
     "text": [
      "'NoneType' object has no attribute 'findall'\n",
      "'NoneType' object has no attribute 'findall'\n",
      "'NoneType' object has no attribute 'findall'\n",
      "'NoneType' object has no attribute 'findall'\n",
      "'NoneType' object has no attribute 'findall'\n"
     ]
    },
    {
     "data": {
      "text/html": [
       "<div>\n",
       "<style scoped>\n",
       "    .dataframe tbody tr th:only-of-type {\n",
       "        vertical-align: middle;\n",
       "    }\n",
       "\n",
       "    .dataframe tbody tr th {\n",
       "        vertical-align: top;\n",
       "    }\n",
       "\n",
       "    .dataframe thead th {\n",
       "        text-align: right;\n",
       "    }\n",
       "</style>\n",
       "<table border=\"1\" class=\"dataframe\">\n",
       "  <thead>\n",
       "    <tr style=\"text-align: right;\">\n",
       "      <th></th>\n",
       "      <th>Title</th>\n",
       "      <th>Authors</th>\n",
       "      <th>Journal</th>\n",
       "      <th>Publication Date</th>\n",
       "      <th>DOI</th>\n",
       "      <th>Abstract</th>\n",
       "    </tr>\n",
       "  </thead>\n",
       "  <tbody>\n",
       "    <tr>\n",
       "      <th>0</th>\n",
       "      <td>The Challenges of Forensic Medicine in Victim ...</td>\n",
       "      <td>Kugel Chen; Nachman Ricardo P; Katz Itai; Dota...</td>\n",
       "      <td>The Israel Medical Association journal : IMAJ</td>\n",
       "      <td></td>\n",
       "      <td>None</td>\n",
       "      <td>The massive terrorist attack on a mixed popula...</td>\n",
       "    </tr>\n",
       "    <tr>\n",
       "      <th>1</th>\n",
       "      <td>Internal Audit of an Oral Pathology Laboratory...</td>\n",
       "      <td>G Priyadharshini; Ramalingam Karthikeyan; Rama...</td>\n",
       "      <td>Cureus</td>\n",
       "      <td></td>\n",
       "      <td>10.7759/cureus.70997</td>\n",
       "      <td>Background Internal audits are essential tools...</td>\n",
       "    </tr>\n",
       "    <tr>\n",
       "      <th>2</th>\n",
       "      <td>Root causes behind patient safety incidents in...</td>\n",
       "      <td>Halinen Minna; Tiirinki Hanna; Rauhala Auvo; K...</td>\n",
       "      <td>BMC emergency medicine</td>\n",
       "      <td></td>\n",
       "      <td>10.1186/s12873-024-01120-9\\n10.1197/j.aem.2004...</td>\n",
       "      <td>Adverse events occur frequently at emergency d...</td>\n",
       "    </tr>\n",
       "    <tr>\n",
       "      <th>3</th>\n",
       "      <td>A New Deep Learning Methodology for Alarm Supe...</td>\n",
       "      <td>Orosa José A; Cao-Feijóo Genaro; Pérez-Castelo...</td>\n",
       "      <td>Sensors (Basel, Switzerland)</td>\n",
       "      <td></td>\n",
       "      <td>10.3390/s24216957</td>\n",
       "      <td>Marine engineering officers operate and mainta...</td>\n",
       "    </tr>\n",
       "    <tr>\n",
       "      <th>4</th>\n",
       "      <td>A numerical evaluation of real-time workloads ...</td>\n",
       "      <td>Shao Quan; Jiang Kaiyue; Li Ruoheng</td>\n",
       "      <td>PloS one</td>\n",
       "      <td></td>\n",
       "      <td>10.1371/journal.pone.0313565</td>\n",
       "      <td>Ramp controllers are required to manage their ...</td>\n",
       "    </tr>\n",
       "    <tr>\n",
       "      <th>...</th>\n",
       "      <td>...</td>\n",
       "      <td>...</td>\n",
       "      <td>...</td>\n",
       "      <td>...</td>\n",
       "      <td>...</td>\n",
       "      <td>...</td>\n",
       "    </tr>\n",
       "    <tr>\n",
       "      <th>95</th>\n",
       "      <td>Effect of Stress on Sleep Quality among Medica...</td>\n",
       "      <td>Sayed Ahmed I; Mobarki Sarah J; Oberi Imtenan ...</td>\n",
       "      <td>Annals of African medicine</td>\n",
       "      <td></td>\n",
       "      <td>10.4103/aam.aam_7_24</td>\n",
       "      <td>It has long been understood that sleep is a ne...</td>\n",
       "    </tr>\n",
       "    <tr>\n",
       "      <th>96</th>\n",
       "      <td>Workload disparities and their role in the hea...</td>\n",
       "      <td>Ingwersen Kai; Thomsen Stephan L</td>\n",
       "      <td>BMC public health</td>\n",
       "      <td></td>\n",
       "      <td>10.1186/s12889-024-19606-3\\n10.1515/jbnst-2012...</td>\n",
       "      <td>This study explores the health status differen...</td>\n",
       "    </tr>\n",
       "    <tr>\n",
       "      <th>97</th>\n",
       "      <td>Behind the scenes of research ethics committee...</td>\n",
       "      <td>Ashkar Catherine El; Nakkash Rima; Matar Amal;...</td>\n",
       "      <td>BMC medical ethics</td>\n",
       "      <td></td>\n",
       "      <td>10.1186/s12910-024-01083-3\\n10.1177/1747016123...</td>\n",
       "      <td>Research cites shortcomings and challenges fac...</td>\n",
       "    </tr>\n",
       "    <tr>\n",
       "      <th>98</th>\n",
       "      <td>Human-Robot Collaboration With a Corrective Sh...</td>\n",
       "      <td>Konstant Anna; Orr Nitzan; Hagenow Michael; Gu...</td>\n",
       "      <td>Human factors</td>\n",
       "      <td></td>\n",
       "      <td>10.1177/00187208241272066</td>\n",
       "      <td>Physical and cognitive workloads and performan...</td>\n",
       "    </tr>\n",
       "    <tr>\n",
       "      <th>99</th>\n",
       "      <td>AbdomenAtlas: A large-scale, detailed-annotate...</td>\n",
       "      <td>Li Wenxuan; Qu Chongyu; Chen Xiaoxi; Bassi Ped...</td>\n",
       "      <td>Medical image analysis</td>\n",
       "      <td></td>\n",
       "      <td>10.1016/j.media.2024.103285</td>\n",
       "      <td>We introduce the largest abdominal CT dataset ...</td>\n",
       "    </tr>\n",
       "  </tbody>\n",
       "</table>\n",
       "<p>100 rows × 6 columns</p>\n",
       "</div>"
      ],
      "text/plain": [
       "                                                Title  \\\n",
       "0   The Challenges of Forensic Medicine in Victim ...   \n",
       "1   Internal Audit of an Oral Pathology Laboratory...   \n",
       "2   Root causes behind patient safety incidents in...   \n",
       "3   A New Deep Learning Methodology for Alarm Supe...   \n",
       "4   A numerical evaluation of real-time workloads ...   \n",
       "..                                                ...   \n",
       "95  Effect of Stress on Sleep Quality among Medica...   \n",
       "96  Workload disparities and their role in the hea...   \n",
       "97  Behind the scenes of research ethics committee...   \n",
       "98  Human-Robot Collaboration With a Corrective Sh...   \n",
       "99  AbdomenAtlas: A large-scale, detailed-annotate...   \n",
       "\n",
       "                                              Authors  \\\n",
       "0   Kugel Chen; Nachman Ricardo P; Katz Itai; Dota...   \n",
       "1   G Priyadharshini; Ramalingam Karthikeyan; Rama...   \n",
       "2   Halinen Minna; Tiirinki Hanna; Rauhala Auvo; K...   \n",
       "3   Orosa José A; Cao-Feijóo Genaro; Pérez-Castelo...   \n",
       "4                 Shao Quan; Jiang Kaiyue; Li Ruoheng   \n",
       "..                                                ...   \n",
       "95  Sayed Ahmed I; Mobarki Sarah J; Oberi Imtenan ...   \n",
       "96                   Ingwersen Kai; Thomsen Stephan L   \n",
       "97  Ashkar Catherine El; Nakkash Rima; Matar Amal;...   \n",
       "98  Konstant Anna; Orr Nitzan; Hagenow Michael; Gu...   \n",
       "99  Li Wenxuan; Qu Chongyu; Chen Xiaoxi; Bassi Ped...   \n",
       "\n",
       "                                          Journal Publication Date  \\\n",
       "0   The Israel Medical Association journal : IMAJ                    \n",
       "1                                          Cureus                    \n",
       "2                          BMC emergency medicine                    \n",
       "3                    Sensors (Basel, Switzerland)                    \n",
       "4                                        PloS one                    \n",
       "..                                            ...              ...   \n",
       "95                     Annals of African medicine                    \n",
       "96                              BMC public health                    \n",
       "97                             BMC medical ethics                    \n",
       "98                                  Human factors                    \n",
       "99                         Medical image analysis                    \n",
       "\n",
       "                                                  DOI  \\\n",
       "0                                                None   \n",
       "1                                10.7759/cureus.70997   \n",
       "2   10.1186/s12873-024-01120-9\\n10.1197/j.aem.2004...   \n",
       "3                                   10.3390/s24216957   \n",
       "4                        10.1371/journal.pone.0313565   \n",
       "..                                                ...   \n",
       "95                               10.4103/aam.aam_7_24   \n",
       "96  10.1186/s12889-024-19606-3\\n10.1515/jbnst-2012...   \n",
       "97  10.1186/s12910-024-01083-3\\n10.1177/1747016123...   \n",
       "98                          10.1177/00187208241272066   \n",
       "99                        10.1016/j.media.2024.103285   \n",
       "\n",
       "                                             Abstract  \n",
       "0   The massive terrorist attack on a mixed popula...  \n",
       "1   Background Internal audits are essential tools...  \n",
       "2   Adverse events occur frequently at emergency d...  \n",
       "3   Marine engineering officers operate and mainta...  \n",
       "4   Ramp controllers are required to manage their ...  \n",
       "..                                                ...  \n",
       "95  It has long been understood that sleep is a ne...  \n",
       "96  This study explores the health status differen...  \n",
       "97  Research cites shortcomings and challenges fac...  \n",
       "98  Physical and cognitive workloads and performan...  \n",
       "99  We introduce the largest abdominal CT dataset ...  \n",
       "\n",
       "[100 rows x 6 columns]"
      ]
     },
     "execution_count": 30,
     "metadata": {},
     "output_type": "execute_result"
    }
   ],
   "source": [
    "import pandas as pd\n",
    "from pymed import PubMed\n",
    "\n",
    "# Initialize PubMed client\n",
    "pubmed = PubMed(tool=\"YourAppName\", email=\"youremail@example.com\")\n",
    "\n",
    "# Define your query\n",
    "query = \"\"\"\n",
    "(\"cognitive load\"[Title/Abstract] OR \"cognitive workload\"[Title/Abstract] OR \"cognitive demands\"[Title/Abstract] OR \"workload\"[Title/Abstract]) \n",
    "AND \n",
    "(\"manufacturing\"[Title/Abstract] OR \"assembly line\"[Title/Abstract] OR \"Industry\"[Title/Abstract] OR \"human\"[Title/Abstract] OR \"factory automation\"[Title/Abstract]) \n",
    "AND \n",
    "(\"2014\"[Date - Publication] : \"2024\"[Date - Publication])\n",
    "\"\"\"\n",
    "\n",
    "# Execute the query\n",
    "results = pubmed.query(query, max_results=100)  # Adjust max_results as needed\n",
    "\n",
    "# Parse results and store them in a list of dictionaries\n",
    "articles = []\n",
    "for article in results:\n",
    "    article_dict = article.toDict()  # Convert each article to a dictionary\n",
    "    articles.append({\"Title\": article_dict.get(\"title\", \"\"), \"Authors\": \"; \".join([author.get(\"lastname\", \"\") + \" \" + author.get(\"firstname\", \"\") for author in article_dict.get(\"authors\", [])]), \"Journal\": article_dict.get(\"journal\", \"\"), \"Publication Date\": article_dict.get(\"pubdate\", \"\"), \"DOI\": article_dict.get(\"doi\", \"\"), \"Abstract\": article_dict.get(\"abstract\", \"\")})\n",
    "\n",
    "# Convert the list of article dictionaries to a DataFrame\n",
    "df = pd.DataFrame(articles)\n",
    "\n",
    "# Display the DataFrame\n",
    "df"
   ]
  },
  {
   "cell_type": "code",
   "execution_count": 5,
   "metadata": {},
   "outputs": [],
   "source": [
    "import pubmed_parser as pp\n",
    "\n",
    "# Parse the XML file\n",
    "articles = pp.parse_medline_xml(\"./PubMed/p2.ris\")\n",
    "\n",
    "# This returns a list of dictionaries where each dictionary represents an article.\n"
   ]
  },
  {
   "cell_type": "code",
   "execution_count": 7,
   "metadata": {},
   "outputs": [
    {
     "ename": "BadGzipFile",
     "evalue": "Not a gzipped file (b'TY')",
     "output_type": "error",
     "traceback": [
      "\u001b[1;31m---------------------------------------------------------------------------\u001b[0m",
      "\u001b[1;31mBadGzipFile\u001b[0m                               Traceback (most recent call last)",
      "Cell \u001b[1;32mIn[7], line 1\u001b[0m\n\u001b[1;32m----> 1\u001b[0m \u001b[38;5;28;01mfor\u001b[39;00m article \u001b[38;5;129;01min\u001b[39;00m articles:\n\u001b[0;32m      2\u001b[0m     \u001b[38;5;28mprint\u001b[39m(article[\u001b[38;5;124m\"\u001b[39m\u001b[38;5;124mtitle\u001b[39m\u001b[38;5;124m\"\u001b[39m])\n",
      "File \u001b[1;32md:\\anaconda3\\envs\\NAMRC\\Lib\\site-packages\\pubmed_parser\\medline_parser.py:751\u001b[0m, in \u001b[0;36mparse_medline_xml\u001b[1;34m(path, year_info_only, nlm_category, author_list, reference_list, parse_downto_mesh_subterms)\u001b[0m\n\u001b[0;32m    702\u001b[0m \u001b[38;5;250m\u001b[39m\u001b[38;5;124;03m\"\"\"Parse XML file from Medline XML format available at\u001b[39;00m\n\u001b[0;32m    703\u001b[0m \u001b[38;5;124;03mhttps://ftp.ncbi.nlm.nih.gov/pubmed/\u001b[39;00m\n\u001b[0;32m    704\u001b[0m \u001b[38;5;124;03m\u001b[39;00m\n\u001b[1;32m   (...)\u001b[0m\n\u001b[0;32m    748\u001b[0m \u001b[38;5;124;03m...     print(article['title'])\u001b[39;00m\n\u001b[0;32m    749\u001b[0m \u001b[38;5;124;03m\"\"\"\u001b[39;00m\n\u001b[0;32m    750\u001b[0m \u001b[38;5;28;01mwith\u001b[39;00m gzip\u001b[38;5;241m.\u001b[39mopen(path, \u001b[38;5;124m\"\u001b[39m\u001b[38;5;124mrb\u001b[39m\u001b[38;5;124m\"\u001b[39m) \u001b[38;5;28;01mas\u001b[39;00m f:\n\u001b[1;32m--> 751\u001b[0m     \u001b[38;5;28;01mfor\u001b[39;00m event, element \u001b[38;5;129;01min\u001b[39;00m etree\u001b[38;5;241m.\u001b[39miterparse(f, events\u001b[38;5;241m=\u001b[39m(\u001b[38;5;124m\"\u001b[39m\u001b[38;5;124mend\u001b[39m\u001b[38;5;124m\"\u001b[39m,)):\n\u001b[0;32m    752\u001b[0m         \u001b[38;5;28;01mif\u001b[39;00m element\u001b[38;5;241m.\u001b[39mtag \u001b[38;5;241m==\u001b[39m \u001b[38;5;124m\"\u001b[39m\u001b[38;5;124mPubmedArticle\u001b[39m\u001b[38;5;124m\"\u001b[39m:\n\u001b[0;32m    753\u001b[0m             res \u001b[38;5;241m=\u001b[39m parse_article_info(\n\u001b[0;32m    754\u001b[0m                 element,\n\u001b[0;32m    755\u001b[0m                 year_info_only,\n\u001b[1;32m   (...)\u001b[0m\n\u001b[0;32m    759\u001b[0m                 parse_subs\u001b[38;5;241m=\u001b[39mparse_downto_mesh_subterms\n\u001b[0;32m    760\u001b[0m             )\n",
      "File \u001b[1;32msrc\\\\lxml\\\\iterparse.pxi:208\u001b[0m, in \u001b[0;36mlxml.etree.iterparse.__next__\u001b[1;34m()\u001b[0m\n",
      "File \u001b[1;32msrc\\\\lxml\\\\iterparse.pxi:193\u001b[0m, in \u001b[0;36mlxml.etree.iterparse.__next__\u001b[1;34m()\u001b[0m\n",
      "File \u001b[1;32msrc\\\\lxml\\\\iterparse.pxi:218\u001b[0m, in \u001b[0;36mlxml.etree.iterparse._read_more_events\u001b[1;34m()\u001b[0m\n",
      "File \u001b[1;32md:\\anaconda3\\envs\\NAMRC\\Lib\\gzip.py:301\u001b[0m, in \u001b[0;36mGzipFile.read\u001b[1;34m(self, size)\u001b[0m\n\u001b[0;32m    299\u001b[0m     \u001b[38;5;28;01mimport\u001b[39;00m \u001b[38;5;21;01merrno\u001b[39;00m\n\u001b[0;32m    300\u001b[0m     \u001b[38;5;28;01mraise\u001b[39;00m \u001b[38;5;167;01mOSError\u001b[39;00m(errno\u001b[38;5;241m.\u001b[39mEBADF, \u001b[38;5;124m\"\u001b[39m\u001b[38;5;124mread() on write-only GzipFile object\u001b[39m\u001b[38;5;124m\"\u001b[39m)\n\u001b[1;32m--> 301\u001b[0m \u001b[38;5;28;01mreturn\u001b[39;00m \u001b[38;5;28;43mself\u001b[39;49m\u001b[38;5;241;43m.\u001b[39;49m\u001b[43m_buffer\u001b[49m\u001b[38;5;241;43m.\u001b[39;49m\u001b[43mread\u001b[49m\u001b[43m(\u001b[49m\u001b[43msize\u001b[49m\u001b[43m)\u001b[49m\n",
      "File \u001b[1;32md:\\anaconda3\\envs\\NAMRC\\Lib\\_compression.py:68\u001b[0m, in \u001b[0;36mDecompressReader.readinto\u001b[1;34m(self, b)\u001b[0m\n\u001b[0;32m     66\u001b[0m \u001b[38;5;28;01mdef\u001b[39;00m \u001b[38;5;21mreadinto\u001b[39m(\u001b[38;5;28mself\u001b[39m, b):\n\u001b[0;32m     67\u001b[0m     \u001b[38;5;28;01mwith\u001b[39;00m \u001b[38;5;28mmemoryview\u001b[39m(b) \u001b[38;5;28;01mas\u001b[39;00m view, view\u001b[38;5;241m.\u001b[39mcast(\u001b[38;5;124m\"\u001b[39m\u001b[38;5;124mB\u001b[39m\u001b[38;5;124m\"\u001b[39m) \u001b[38;5;28;01mas\u001b[39;00m byte_view:\n\u001b[1;32m---> 68\u001b[0m         data \u001b[38;5;241m=\u001b[39m \u001b[38;5;28;43mself\u001b[39;49m\u001b[38;5;241;43m.\u001b[39;49m\u001b[43mread\u001b[49m\u001b[43m(\u001b[49m\u001b[38;5;28;43mlen\u001b[39;49m\u001b[43m(\u001b[49m\u001b[43mbyte_view\u001b[49m\u001b[43m)\u001b[49m\u001b[43m)\u001b[49m\n\u001b[0;32m     69\u001b[0m         byte_view[:\u001b[38;5;28mlen\u001b[39m(data)] \u001b[38;5;241m=\u001b[39m data\n\u001b[0;32m     70\u001b[0m     \u001b[38;5;28;01mreturn\u001b[39;00m \u001b[38;5;28mlen\u001b[39m(data)\n",
      "File \u001b[1;32md:\\anaconda3\\envs\\NAMRC\\Lib\\gzip.py:499\u001b[0m, in \u001b[0;36m_GzipReader.read\u001b[1;34m(self, size)\u001b[0m\n\u001b[0;32m    495\u001b[0m \u001b[38;5;28;01mif\u001b[39;00m \u001b[38;5;28mself\u001b[39m\u001b[38;5;241m.\u001b[39m_new_member:\n\u001b[0;32m    496\u001b[0m     \u001b[38;5;66;03m# If the _new_member flag is set, we have to\u001b[39;00m\n\u001b[0;32m    497\u001b[0m     \u001b[38;5;66;03m# jump to the next member, if there is one.\u001b[39;00m\n\u001b[0;32m    498\u001b[0m     \u001b[38;5;28mself\u001b[39m\u001b[38;5;241m.\u001b[39m_init_read()\n\u001b[1;32m--> 499\u001b[0m     \u001b[38;5;28;01mif\u001b[39;00m \u001b[38;5;129;01mnot\u001b[39;00m \u001b[38;5;28;43mself\u001b[39;49m\u001b[38;5;241;43m.\u001b[39;49m\u001b[43m_read_gzip_header\u001b[49m\u001b[43m(\u001b[49m\u001b[43m)\u001b[49m:\n\u001b[0;32m    500\u001b[0m         \u001b[38;5;28mself\u001b[39m\u001b[38;5;241m.\u001b[39m_size \u001b[38;5;241m=\u001b[39m \u001b[38;5;28mself\u001b[39m\u001b[38;5;241m.\u001b[39m_pos\n\u001b[0;32m    501\u001b[0m         \u001b[38;5;28;01mreturn\u001b[39;00m \u001b[38;5;124mb\u001b[39m\u001b[38;5;124m\"\u001b[39m\u001b[38;5;124m\"\u001b[39m\n",
      "File \u001b[1;32md:\\anaconda3\\envs\\NAMRC\\Lib\\gzip.py:468\u001b[0m, in \u001b[0;36m_GzipReader._read_gzip_header\u001b[1;34m(self)\u001b[0m\n\u001b[0;32m    467\u001b[0m \u001b[38;5;28;01mdef\u001b[39;00m \u001b[38;5;21m_read_gzip_header\u001b[39m(\u001b[38;5;28mself\u001b[39m):\n\u001b[1;32m--> 468\u001b[0m     last_mtime \u001b[38;5;241m=\u001b[39m \u001b[43m_read_gzip_header\u001b[49m\u001b[43m(\u001b[49m\u001b[38;5;28;43mself\u001b[39;49m\u001b[38;5;241;43m.\u001b[39;49m\u001b[43m_fp\u001b[49m\u001b[43m)\u001b[49m\n\u001b[0;32m    469\u001b[0m     \u001b[38;5;28;01mif\u001b[39;00m last_mtime \u001b[38;5;129;01mis\u001b[39;00m \u001b[38;5;28;01mNone\u001b[39;00m:\n\u001b[0;32m    470\u001b[0m         \u001b[38;5;28;01mreturn\u001b[39;00m \u001b[38;5;28;01mFalse\u001b[39;00m\n",
      "File \u001b[1;32md:\\anaconda3\\envs\\NAMRC\\Lib\\gzip.py:428\u001b[0m, in \u001b[0;36m_read_gzip_header\u001b[1;34m(fp)\u001b[0m\n\u001b[0;32m    425\u001b[0m     \u001b[38;5;28;01mreturn\u001b[39;00m \u001b[38;5;28;01mNone\u001b[39;00m\n\u001b[0;32m    427\u001b[0m \u001b[38;5;28;01mif\u001b[39;00m magic \u001b[38;5;241m!=\u001b[39m \u001b[38;5;124mb\u001b[39m\u001b[38;5;124m'\u001b[39m\u001b[38;5;130;01m\\037\u001b[39;00m\u001b[38;5;130;01m\\213\u001b[39;00m\u001b[38;5;124m'\u001b[39m:\n\u001b[1;32m--> 428\u001b[0m     \u001b[38;5;28;01mraise\u001b[39;00m BadGzipFile(\u001b[38;5;124m'\u001b[39m\u001b[38;5;124mNot a gzipped file (\u001b[39m\u001b[38;5;132;01m%r\u001b[39;00m\u001b[38;5;124m)\u001b[39m\u001b[38;5;124m'\u001b[39m \u001b[38;5;241m%\u001b[39m magic)\n\u001b[0;32m    430\u001b[0m (method, flag, last_mtime) \u001b[38;5;241m=\u001b[39m struct\u001b[38;5;241m.\u001b[39munpack(\u001b[38;5;124m\"\u001b[39m\u001b[38;5;124m<BBIxx\u001b[39m\u001b[38;5;124m\"\u001b[39m, _read_exact(fp, \u001b[38;5;241m8\u001b[39m))\n\u001b[0;32m    431\u001b[0m \u001b[38;5;28;01mif\u001b[39;00m method \u001b[38;5;241m!=\u001b[39m \u001b[38;5;241m8\u001b[39m:\n",
      "\u001b[1;31mBadGzipFile\u001b[0m: Not a gzipped file (b'TY')"
     ]
    }
   ],
   "source": [
    "for article in articles:\n",
    "    print(article[\"title\"])"
   ]
  }
 ],
 "metadata": {
  "kernelspec": {
   "display_name": "NAMRC",
   "language": "python",
   "name": "python3"
  },
  "language_info": {
   "codemirror_mode": {
    "name": "ipython",
    "version": 3
   },
   "file_extension": ".py",
   "mimetype": "text/x-python",
   "name": "python",
   "nbconvert_exporter": "python",
   "pygments_lexer": "ipython3",
   "version": "3.11.10"
  }
 },
 "nbformat": 4,
 "nbformat_minor": 2
}
