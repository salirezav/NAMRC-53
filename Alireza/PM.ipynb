{
 "cells": [
  {
   "cell_type": "code",
   "execution_count": 10,
   "metadata": {},
   "outputs": [],
   "source": [
    "# %matplotlib widget\n",
    "\n",
    "\n",
    "import os\n",
    "import pandas as pd\n",
    "import numpy as np\n",
    "from matplotlib import pyplot as plt\n",
    "import rispy\n",
    "import glob\n",
    "from pymed import PubMed\n",
    "import re"
   ]
  },
  {
   "cell_type": "code",
   "execution_count": 19,
   "metadata": {},
   "outputs": [],
   "source": [
    "ris_file = glob.glob(\"./PubMed/*.txt\")\n",
    "pubmed_file = \".\\PubMed\\pubmed (4).txt\""
   ]
  },
  {
   "cell_type": "code",
   "execution_count": 20,
   "metadata": {},
   "outputs": [],
   "source": [
    "import pandas as pd\n",
    "import re\n",
    "\n",
    "# Path to your PMID file\n",
    "# pubmed_file = \"path/to/your/pmid_file.txt\"\n",
    "\n",
    "# Define a list to store each record as a dictionary\n",
    "records = []\n",
    "\n",
    "# Read the file and split each entry by 'PMID'\n",
    "with open(pubmed_file, \"r\") as file:\n",
    "    content = file.read()\n",
    "    entries = re.split(r\"\\nPMID-\", content)\n",
    "\n",
    "    for entry in entries:\n",
    "        if entry.strip():  # skip empty entries\n",
    "            record = {}\n",
    "            # Ensure each entry has 'PMID-' at the start\n",
    "            entry = \"PMID-\" + entry.strip()\n",
    "\n",
    "            # Extract fields using regular expressions with re.DOTALL for multiline support\n",
    "            record[\"PMID\"] = re.search(r\"PMID- (\\d+)\", entry).group(1) if re.search(r\"PMID- (\\d+)\", entry) else None\n",
    "            record[\"Title\"] = re.search(r\"TI  - (.+?)(?=\\n[A-Z]{2}  - |\\Z)\", entry, re.DOTALL).group(1).replace(\"\\n\", \" \") if re.search(r\"TI  - (.+?)(?=\\n[A-Z]{2}  - |\\Z)\", entry, re.DOTALL) else None\n",
    "            record[\"Authors\"] = re.findall(r\"AU  - (.+)\", entry)\n",
    "            record[\"Journal\"] = re.search(r\"TA  - (.+?)(?=\\n[A-Z]{2}  - |\\Z)\", entry, re.DOTALL).group(1) if re.search(r\"TA  - (.+?)(?=\\n[A-Z]{2}  - |\\Z)\", entry, re.DOTALL) else None\n",
    "            record[\"Abstract\"] = re.search(r\"AB  - (.+?)(?=\\n[A-Z]{2}  - |\\Z)\", entry, re.DOTALL).group(1).replace(\"\\n\", \" \") if re.search(r\"AB  - (.+?)(?=\\n[A-Z]{2}  - |\\Z)\", entry, re.DOTALL) else None\n",
    "            record[\"Publication Date\"] = re.search(r\"DP  - (.+)\", entry).group(1) if re.search(r\"DP  - (.+)\", entry) else None\n",
    "            record[\"Volume\"] = re.search(r\"VI  - (.+)\", entry).group(1) if re.search(r\"VI  - (.+)\", entry) else None\n",
    "            record[\"Issue\"] = re.search(r\"IP  - (.+)\", entry).group(1) if re.search(r\"IP  - (.+)\", entry) else None\n",
    "            record[\"Pages\"] = re.search(r\"PG  - (.+)\", entry).group(1) if re.search(r\"PG  - (.+)\", entry) else None\n",
    "            record[\"DOI\"] = re.search(r\"AID - (.+?) \\[doi\\]\", entry).group(1) if re.search(r\"AID - (.+?) \\[doi\\]\", entry) else None\n",
    "\n",
    "            # Append the record to the list of records\n",
    "            records.append(record)\n",
    "\n",
    "# Convert records list to a DataFrame\n",
    "pubmed_df = pd.DataFrame(records)\n",
    "\n",
    "# Save to CSV\n",
    "pubmed_df.to_csv(\"./PubMed/PM.csv\", index=False)"
   ]
  },
  {
   "cell_type": "code",
   "execution_count": 21,
   "metadata": {},
   "outputs": [
    {
     "data": {
      "text/plain": [
       "Index(['PMID', 'Title', 'Authors', 'Journal', 'Abstract', 'Publication Date',\n",
       "       'Volume', 'Issue', 'Pages', 'DOI'],\n",
       "      dtype='object')"
      ]
     },
     "execution_count": 21,
     "metadata": {},
     "output_type": "execute_result"
    }
   ],
   "source": [
    "pubmed_df.columns"
   ]
  },
  {
   "cell_type": "code",
   "execution_count": 24,
   "metadata": {},
   "outputs": [],
   "source": [
    "# Dictionary mapping PubMed columns to WOS columns\n",
    "column_mapping = {\"PMID\": \"UT (Unique WOS ID)\", \"Title\": \"Article Title\", \"Authors\": \"Authors\", \"Journal/Book\": \"Source Title\", \"Publication Year\": \"Publication Year\", \"Create Date\": \"Publication Date\", \"DOI\": \"DOI\", \"Citation\": \"Volume\", \"First Author\": \"Author Full Names\", \"NIHMS ID\": \"ISSN\", \"PMCID\": \"Pubmed Id\"}  # Assuming Citation includes volume info  # Could vary depending on usage  # Adjust if not equivalent\n",
    "\n",
    "# Rename the columns in the DataFrame\n",
    "pubmed_df = pubmed_df.rename(columns=column_mapping)"
   ]
  },
  {
   "cell_type": "code",
   "execution_count": 26,
   "metadata": {},
   "outputs": [
    {
     "data": {
      "text/plain": [
       "Index(['UT (Unique WOS ID)', 'Article Title', 'Authors', 'Volume',\n",
       "       'Author Full Names', 'Source Title', 'Publication Year',\n",
       "       'Publication Date', 'Pubmed Id', 'ISSN', 'DOI'],\n",
       "      dtype='object')"
      ]
     },
     "execution_count": 26,
     "metadata": {},
     "output_type": "execute_result"
    }
   ],
   "source": [
    "pubmed_df.columns"
   ]
  }
 ],
 "metadata": {
  "kernelspec": {
   "display_name": "NAMRC",
   "language": "python",
   "name": "python3"
  },
  "language_info": {
   "codemirror_mode": {
    "name": "ipython",
    "version": 3
   },
   "file_extension": ".py",
   "mimetype": "text/x-python",
   "name": "python",
   "nbconvert_exporter": "python",
   "pygments_lexer": "ipython3",
   "version": "3.11.10"
  }
 },
 "nbformat": 4,
 "nbformat_minor": 2
}
