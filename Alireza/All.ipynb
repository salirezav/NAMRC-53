{
 "cells": [
  {
   "cell_type": "code",
   "execution_count": 20,
   "metadata": {},
   "outputs": [],
   "source": [
    "import pandas as pd\n",
    "import numpy as np\n",
    "from matplotlib import pyplot as plt\n",
    "import os\n",
    "from glob import glob\n",
    "import rispy"
   ]
  },
  {
   "cell_type": "code",
   "execution_count": 21,
   "metadata": {},
   "outputs": [],
   "source": [
    "WOS_papers = pd.read_excel(\"./WOS/wos.xls\")\n",
    "ris_files = glob(\"./ScienceDirect/*.ris\")\n",
    "SCO_papers = pd.read_csv(\"./Scopus/scopus.csv\")\n",
    "\n",
    "# List to store each DataFrame\n",
    "dfs = []\n",
    "\n",
    "# Process each .ris file and append to the list of DataFrames\n",
    "for ris_file in ris_files:\n",
    "    with open(ris_file, \"r\", encoding=\"utf-8\") as file:\n",
    "        entries = rispy.load(file)  # Parse .ris file using rispy\n",
    "        df = pd.DataFrame(entries)  # Convert each file to a DataFrame\n",
    "        dfs.append(df)\n",
    "\n",
    "# Concatenate all DataFrames into a single DataFrame\n",
    "SD_papers = pd.concat(dfs, ignore_index=True)"
   ]
  },
  {
   "cell_type": "code",
   "execution_count": 22,
   "metadata": {},
   "outputs": [],
   "source": [
    "# Merge 'Author Keywords' and 'Keywords Plus' in WOS_papers\n",
    "WOS_papers[\"Keywords\"] = WOS_papers[\"Author Keywords\"].fillna(\"\") + \"; \" + WOS_papers[\"Keywords Plus\"].fillna(\"\")\n",
    "WOS_papers[\"Keywords\"] = WOS_papers[\"Keywords\"].str.strip(\"; \")\n",
    "\n",
    "# Merge 'Author Keywords' and 'Index Keywords' in SCO_papers\n",
    "SCO_papers[\"Keywords\"] = SCO_papers[\"Author Keywords\"].fillna(\"\") + \"; \" + SCO_papers[\"Index Keywords\"].fillna(\"\")\n",
    "SCO_papers[\"Keywords\"] = SCO_papers[\"Keywords\"].str.strip(\"; \")"
   ]
  },
  {
   "cell_type": "code",
   "execution_count": 23,
   "metadata": {},
   "outputs": [],
   "source": [
    "# Rename columns to match the common fields in all dataframes\n",
    "WOS_papers = WOS_papers.rename(columns={\"Article Title\": \"Title\", \"Abstract\": \"Abstract\", \"Authors\": \"Authors\", \"DOI\": \"DOI\", \"ISSN\": \"ISSN\", \"Publication Year\": \"Publication Year\"})\n",
    "\n",
    "SC_papers = SC_papers.rename(columns={\"Article Title\": \"Title\", \"Abstract\": \"Abstract\", \"Authors\": \"Authors\", \"DOI\": \"DOI\", \"ISSN\": \"ISSN\", \"Publication Year\": \"Publication Year\"})\n",
    "\n",
    "SD_papers = SD_papers.rename(columns={\"primary_title\": \"Title\", \"abstract\": \"Abstract\", \"authors\": \"Authors\", \"doi\": \"DOI\", \"issn\": \"ISSN\", \"year\": \"Publication Year\", \"keywords\": \"Keywords\"})"
   ]
  },
  {
   "cell_type": "code",
   "execution_count": 24,
   "metadata": {},
   "outputs": [],
   "source": [
    "common_columns = [\"Title\", \"Abstract\", \"Authors\", \"Keywords\", \"DOI\", \"ISSN\", \"Publication Year\"]\n",
    "\n",
    "WOS_papers_common = WOS_papers[common_columns]\n",
    "SC_papers_common = SC_papers[common_columns]\n",
    "SD_papers_common = SD_papers[common_columns]"
   ]
  },
  {
   "cell_type": "code",
   "execution_count": 25,
   "metadata": {},
   "outputs": [],
   "source": [
    "combined_df = pd.concat([WOS_papers_common, SC_papers_common, SD_papers_common], ignore_index=True)"
   ]
  },
  {
   "cell_type": "code",
   "execution_count": 27,
   "metadata": {},
   "outputs": [],
   "source": [
    "combined_df.to_csv(\"./COMBINED.csv\")"
   ]
  },
  {
   "cell_type": "code",
   "execution_count": 28,
   "metadata": {},
   "outputs": [
    {
     "data": {
      "text/plain": [
       "886"
      ]
     },
     "execution_count": 28,
     "metadata": {},
     "output_type": "execute_result"
    }
   ],
   "source": [
    "combined_df.shape[0]"
   ]
  },
  {
   "cell_type": "code",
   "execution_count": null,
   "metadata": {},
   "outputs": [],
   "source": []
  }
 ],
 "metadata": {
  "kernelspec": {
   "display_name": "NAMRC",
   "language": "python",
   "name": "python3"
  },
  "language_info": {
   "codemirror_mode": {
    "name": "ipython",
    "version": 3
   },
   "file_extension": ".py",
   "mimetype": "text/x-python",
   "name": "python",
   "nbconvert_exporter": "python",
   "pygments_lexer": "ipython3",
   "version": "3.11.10"
  }
 },
 "nbformat": 4,
 "nbformat_minor": 2
}
