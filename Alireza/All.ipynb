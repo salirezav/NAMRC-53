{
 "cells": [
  {
   "cell_type": "code",
   "execution_count": 27,
   "metadata": {},
   "outputs": [],
   "source": [
    "SCO_csv = \"./Scopus/scopus.csv\"\n",
    "SD_csv = \"./ScienceDirect/ScienceDirect.csv\"\n",
    "WOS_csv  = \"./WOS/wos.csv\"\n",
    "PM_csv = \"./PubMed/PM.csv\""
   ]
  },
  {
   "cell_type": "code",
   "execution_count": 23,
   "metadata": {},
   "outputs": [],
   "source": [
    "import pandas as pd\n",
    "import numpy as np\n",
    "from matplotlib import pyplot as plt\n",
    "import os\n",
    "from glob import glob"
   ]
  },
  {
   "cell_type": "code",
   "execution_count": 24,
   "metadata": {},
   "outputs": [],
   "source": [
    "shared_columns = [\"Article Title\", \"Authors\", \"Abstract\", \"Volume\", \"Source Title\", \"Publication Year\", \"ISSN\", \"DOI\"]"
   ]
  },
  {
   "cell_type": "code",
   "execution_count": 25,
   "metadata": {},
   "outputs": [
    {
     "ename": "NameError",
     "evalue": "name 'PM_csv' is not defined",
     "output_type": "error",
     "traceback": [
      "\u001b[1;31m---------------------------------------------------------------------------\u001b[0m",
      "\u001b[1;31mNameError\u001b[0m                                 Traceback (most recent call last)",
      "Cell \u001b[1;32mIn[25], line 4\u001b[0m\n\u001b[0;32m      2\u001b[0m SD_df \u001b[38;5;241m=\u001b[39m pd\u001b[38;5;241m.\u001b[39mread_csv(SD_csv)\n\u001b[0;32m      3\u001b[0m WOS_df \u001b[38;5;241m=\u001b[39m pd\u001b[38;5;241m.\u001b[39mread_csv(WOS_csv)\n\u001b[1;32m----> 4\u001b[0m PM_df \u001b[38;5;241m=\u001b[39m pd\u001b[38;5;241m.\u001b[39mread_csv(\u001b[43mPM_csv\u001b[49m)\n",
      "\u001b[1;31mNameError\u001b[0m: name 'PM_csv' is not defined"
     ]
    }
   ],
   "source": [
    "SCO_df = pd.read_csv(SCO_csv)\n",
    "SD_df = pd.read_csv(SD_csv)\n",
    "WOS_df = pd.read_csv(WOS_csv)\n",
    "PM_df = pd.read_csv(PM_csv)"
   ]
  },
  {
   "cell_type": "code",
   "execution_count": 5,
   "metadata": {},
   "outputs": [],
   "source": [
    "# Add a source column to each DataFrame to indicate the origin\n",
    "SCO_df[\"Source\"] = \"SCO\"\n",
    "SD_df[\"Source\"] = \"SD\"\n",
    "WOS_df[\"Source\"] = \"WOS\""
   ]
  },
  {
   "cell_type": "code",
   "execution_count": 20,
   "metadata": {},
   "outputs": [
    {
     "name": "stdout",
     "output_type": "stream",
     "text": [
      "Scopus  560\n",
      "ScienceDirect  142\n",
      "WOS  184\n"
     ]
    }
   ],
   "source": [
    "print(\"Scopus \", SCO_df.shape[0])\n",
    "print(\"ScienceDirect \", SD_df.shape[0])\n",
    "print(\"WOS \", WOS_df.shape[0])"
   ]
  },
  {
   "cell_type": "code",
   "execution_count": 6,
   "metadata": {},
   "outputs": [],
   "source": [
    "# Select only the shared columns plus the Source column from each DataFrame\n",
    "SCO_selected = SCO_df[shared_columns + [\"Source\"]]\n",
    "SD_selected = SD_df[shared_columns + [\"Source\"]]\n",
    "WOS_selected = WOS_df[shared_columns + [\"Source\"]]"
   ]
  },
  {
   "cell_type": "code",
   "execution_count": 7,
   "metadata": {},
   "outputs": [],
   "source": [
    "# Concatenate the DataFrames\n",
    "All_df = pd.concat([SCO_selected, SD_selected, WOS_selected], ignore_index=True)"
   ]
  },
  {
   "cell_type": "code",
   "execution_count": 8,
   "metadata": {},
   "outputs": [
    {
     "data": {
      "text/plain": [
       "Article Title       886\n",
       "Authors             886\n",
       "Volume              734\n",
       "Source Title        884\n",
       "Publication Year    886\n",
       "ISSN                734\n",
       "DOI                 832\n",
       "Source              886\n",
       "dtype: int64"
      ]
     },
     "execution_count": 8,
     "metadata": {},
     "output_type": "execute_result"
    }
   ],
   "source": [
    "All_df.count()"
   ]
  },
  {
   "cell_type": "code",
   "execution_count": 21,
   "metadata": {},
   "outputs": [
    {
     "data": {
      "text/plain": [
       "Index(['Article Title', 'Authors', 'Volume', 'Source Title',\n",
       "       'Publication Year', 'ISSN', 'DOI', 'Source'],\n",
       "      dtype='object')"
      ]
     },
     "execution_count": 21,
     "metadata": {},
     "output_type": "execute_result"
    }
   ],
   "source": [
    "All_df.columns"
   ]
  }
 ],
 "metadata": {
  "kernelspec": {
   "display_name": "NAMRC",
   "language": "python",
   "name": "python3"
  },
  "language_info": {
   "codemirror_mode": {
    "name": "ipython",
    "version": 3
   },
   "file_extension": ".py",
   "mimetype": "text/x-python",
   "name": "python",
   "nbconvert_exporter": "python",
   "pygments_lexer": "ipython3",
   "version": "3.11.10"
  }
 },
 "nbformat": 4,
 "nbformat_minor": 2
}
