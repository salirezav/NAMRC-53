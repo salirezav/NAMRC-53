{
 "cells": [
  {
   "cell_type": "code",
   "execution_count": 6,
   "metadata": {},
   "outputs": [],
   "source": [
    "SCO_csv = \"./Scopus/scopus.csv\"\n",
    "SD_csv = \"./ScienceDirect/ScienceDirect.csv\"\n",
    "WOS_csv  = \"./WOS/wos.csv\""
   ]
  },
  {
   "cell_type": "code",
   "execution_count": 7,
   "metadata": {},
   "outputs": [],
   "source": [
    "import pandas as pd\n",
    "import numpy as np\n",
    "from matplotlib import pyplot as plt\n",
    "import os\n",
    "from glob import glob"
   ]
  },
  {
   "cell_type": "code",
   "execution_count": 15,
   "metadata": {},
   "outputs": [],
   "source": [
    "shared_columns = [\"Article Title\", \"Authors\", \"Volume\", \"Source Title\", \"Publication Year\", \"ISSN\", \"DOI\"]"
   ]
  },
  {
   "cell_type": "code",
   "execution_count": 16,
   "metadata": {},
   "outputs": [],
   "source": [
    "SCO_df = pd.read_csv(SCO_csv)\n",
    "SD_df = pd.read_csv(SD_csv)\n",
    "WOS_df = pd.read_csv(WOS_csv)"
   ]
  },
  {
   "cell_type": "code",
   "execution_count": 17,
   "metadata": {},
   "outputs": [],
   "source": [
    "# Add a source column to each DataFrame to indicate the origin\n",
    "SCO_df[\"Source\"] = \"SCO\"\n",
    "SD_df[\"Source\"] = \"SD\"\n",
    "WOS_df[\"Source\"] = \"WOS\""
   ]
  },
  {
   "cell_type": "code",
   "execution_count": 19,
   "metadata": {},
   "outputs": [],
   "source": [
    "# Select only the shared columns plus the Source column from each DataFrame\n",
    "SCO_selected = SCO_df[shared_columns + [\"Source\"]]\n",
    "SD_selected = SD_df[shared_columns + [\"Source\"]]\n",
    "WOS_selected = WOS_df[shared_columns + [\"Source\"]]"
   ]
  },
  {
   "cell_type": "code",
   "execution_count": 20,
   "metadata": {},
   "outputs": [],
   "source": [
    "# Concatenate the DataFrames\n",
    "All_df = pd.concat([SCO_selected, SD_selected, WOS_selected], ignore_index=True)"
   ]
  },
  {
   "cell_type": "code",
   "execution_count": 27,
   "metadata": {},
   "outputs": [
    {
     "data": {
      "text/plain": [
       "array([2023, 2022, 2020, 2016, 2015, 2017, 2024, 2021, 2018, 2019, 2014])"
      ]
     },
     "execution_count": 27,
     "metadata": {},
     "output_type": "execute_result"
    }
   ],
   "source": [
    "All_df[\"Publication Year\"].unique()"
   ]
  }
 ],
 "metadata": {
  "kernelspec": {
   "display_name": "NAMRC",
   "language": "python",
   "name": "python3"
  },
  "language_info": {
   "codemirror_mode": {
    "name": "ipython",
    "version": 3
   },
   "file_extension": ".py",
   "mimetype": "text/x-python",
   "name": "python",
   "nbconvert_exporter": "python",
   "pygments_lexer": "ipython3",
   "version": "3.11.10"
  }
 },
 "nbformat": 4,
 "nbformat_minor": 2
}
