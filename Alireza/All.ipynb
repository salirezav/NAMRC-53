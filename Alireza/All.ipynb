{
 "cells": [
  {
   "cell_type": "code",
   "execution_count": 1,
   "metadata": {},
   "outputs": [],
   "source": [
    "SCO_csv = \"./Scopus/scopus.csv\"\n",
    "SD_csv = \"./ScienceDirect/ScienceDirect.csv\"\n",
    "WOS_csv  = \"./WOS/wos.csv\""
   ]
  },
  {
   "cell_type": "code",
   "execution_count": 2,
   "metadata": {},
   "outputs": [],
   "source": [
    "import pandas as pd\n",
    "import numpy as np\n",
    "from matplotlib import pyplot as plt\n",
    "import os\n",
    "from glob import glob"
   ]
  },
  {
   "cell_type": "code",
   "execution_count": 3,
   "metadata": {},
   "outputs": [],
   "source": [
    "shared_columns = [\"Article Title\", \"Authors\", \"Volume\", \"Source Title\", \"Publication Year\", \"ISSN\", \"DOI\"]"
   ]
  },
  {
   "cell_type": "code",
   "execution_count": 4,
   "metadata": {},
   "outputs": [],
   "source": [
    "SCO_df = pd.read_csv(SCO_csv)\n",
    "SD_df = pd.read_csv(SD_csv)\n",
    "WOS_df = pd.read_csv(WOS_csv)"
   ]
  },
  {
   "cell_type": "code",
   "execution_count": 5,
   "metadata": {},
   "outputs": [],
   "source": [
    "# Add a source column to each DataFrame to indicate the origin\n",
    "SCO_df[\"Source\"] = \"SCO\"\n",
    "SD_df[\"Source\"] = \"SD\"\n",
    "WOS_df[\"Source\"] = \"WOS\""
   ]
  },
  {
   "cell_type": "code",
   "execution_count": 6,
   "metadata": {},
   "outputs": [],
   "source": [
    "# Select only the shared columns plus the Source column from each DataFrame\n",
    "SCO_selected = SCO_df[shared_columns + [\"Source\"]]\n",
    "SD_selected = SD_df[shared_columns + [\"Source\"]]\n",
    "WOS_selected = WOS_df[shared_columns + [\"Source\"]]"
   ]
  },
  {
   "cell_type": "code",
   "execution_count": 7,
   "metadata": {},
   "outputs": [],
   "source": [
    "# Concatenate the DataFrames\n",
    "All_df = pd.concat([SCO_selected, SD_selected, WOS_selected], ignore_index=True)"
   ]
  },
  {
   "cell_type": "code",
   "execution_count": 9,
   "metadata": {},
   "outputs": [
    {
     "data": {
      "text/plain": [
       "Article Title       1891\n",
       "Authors             1891\n",
       "Volume              1734\n",
       "Source Title        1889\n",
       "Publication Year    1891\n",
       "ISSN                1739\n",
       "DOI                 1837\n",
       "Source              1891\n",
       "dtype: int64"
      ]
     },
     "execution_count": 9,
     "metadata": {},
     "output_type": "execute_result"
    }
   ],
   "source": [
    "All_df.count()"
   ]
  }
 ],
 "metadata": {
  "kernelspec": {
   "display_name": "NAMRC",
   "language": "python",
   "name": "python3"
  },
  "language_info": {
   "codemirror_mode": {
    "name": "ipython",
    "version": 3
   },
   "file_extension": ".py",
   "mimetype": "text/x-python",
   "name": "python",
   "nbconvert_exporter": "python",
   "pygments_lexer": "ipython3",
   "version": "3.11.10"
  }
 },
 "nbformat": 4,
 "nbformat_minor": 2
}
