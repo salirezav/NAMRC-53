{
 "cells": [
  {
   "cell_type": "code",
   "execution_count": 2,
   "metadata": {},
   "outputs": [],
   "source": [
    "import pandas as pd\n",
    "import numpy as np\n",
    "from matplotlib import pyplot as plt\n",
    "import os\n",
    "from glob import glob\n",
    "import rispy\n",
    "from IPython.display import display"
   ]
  },
  {
   "cell_type": "code",
   "execution_count": 3,
   "metadata": {},
   "outputs": [],
   "source": [
    "WOS_csv = \"../Niloofar/wos_final.csv\"\n",
    "SD_csv = \"../Niloofar/sciencedirect_final.csv\"\n",
    "SCO_csv = \"../Niloofar/scopus_final.csv\"\n",
    "\n",
    "\n",
    "WOS_df = pd.read_csv(WOS_csv)\n",
    "SD_df = pd.read_csv(SD_csv)\n",
    "SCO_df = pd.read_csv(SCO_csv)"
   ]
  },
  {
   "cell_type": "code",
   "execution_count": 4,
   "metadata": {},
   "outputs": [
    {
     "name": "stdout",
     "output_type": "stream",
     "text": [
      "1000\n",
      "2250\n",
      "399\n"
     ]
    }
   ],
   "source": [
    "print(WOS_df.shape[0])\n",
    "print(SCO_df.shape[0])\n",
    "print(SD_df.shape[0])"
   ]
  },
  {
   "cell_type": "code",
   "execution_count": 9,
   "metadata": {},
   "outputs": [],
   "source": [
    "essential_columns = [\"Title\", \"Abstract\", \"Keywords\", \"DOI\", \"Authors\", \"Year\"]\n",
    "# Standardize column names for WOS_df\n",
    "WOS_df_standardized = WOS_df.rename(columns={\"Article Title\": \"Title\", \"Abstract\": \"Abstract\", \"Author Keywords\": \"Keywords\", \"DOI\": \"DOI\", \"Authors\": \"Authors\", \"Publication Year\": \"Year\"})[essential_columns]\n",
    "\n",
    "# Standardize column names for SCO_df\n",
    "SCO_df_standardized = SCO_df.rename(columns={\"Title\": \"Title\", \"Abstract\": \"Abstract\", \"Author Keywords\": \"Keywords\", \"DOI\": \"DOI\", \"Authors\": \"Authors\", \"Year\": \"Year\"})[essential_columns]\n",
    "\n",
    "# Standardize column names for SD_df\n",
    "SD_df_standardized = SD_df.rename(columns={\"primary_title\": \"Title\", \"abstract\": \"Abstract\", \"keywords\": \"Keywords\", \"doi\": \"DOI\", \"authors\": \"Authors\", \"year\": \"Year\"})[essential_columns]\n",
    "\n",
    "# Concatenate the three DataFrames\n",
    "concatenated_df = pd.concat([WOS_df_standardized, SCO_df_standardized, SD_df_standardized], ignore_index=True)"
   ]
  },
  {
   "cell_type": "code",
   "execution_count": 10,
   "metadata": {},
   "outputs": [
    {
     "data": {
      "text/html": [
       "<div>\n",
       "<style scoped>\n",
       "    .dataframe tbody tr th:only-of-type {\n",
       "        vertical-align: middle;\n",
       "    }\n",
       "\n",
       "    .dataframe tbody tr th {\n",
       "        vertical-align: top;\n",
       "    }\n",
       "\n",
       "    .dataframe thead th {\n",
       "        text-align: right;\n",
       "    }\n",
       "</style>\n",
       "<table border=\"1\" class=\"dataframe\">\n",
       "  <thead>\n",
       "    <tr style=\"text-align: right;\">\n",
       "      <th></th>\n",
       "      <th>Title</th>\n",
       "      <th>Abstract</th>\n",
       "      <th>Keywords</th>\n",
       "      <th>DOI</th>\n",
       "      <th>Authors</th>\n",
       "      <th>Year</th>\n",
       "    </tr>\n",
       "  </thead>\n",
       "  <tbody>\n",
       "    <tr>\n",
       "      <th>0</th>\n",
       "      <td>Cognitive Manufacturing in Industry 4.0 toward...</td>\n",
       "      <td>Cognitive manufacturing utilizes cognitive com...</td>\n",
       "      <td>Industry 4.0; cognitive manufacturing; cogniti...</td>\n",
       "      <td>10.3390/asi3040055</td>\n",
       "      <td>Carvalho, AV; Chouchene, A; Lima, TM; Charrua-...</td>\n",
       "      <td>2020</td>\n",
       "    </tr>\n",
       "    <tr>\n",
       "      <th>1</th>\n",
       "      <td>An Online Framework for Cognitive Load Assessm...</td>\n",
       "      <td>The ongoing trend toward Industry 4.0 has revo...</td>\n",
       "      <td>Cognitive ergonomics; Cognitive manufacturing;...</td>\n",
       "      <td>10.1016/j.rcim.2022.102380</td>\n",
       "      <td>Lagomarsino, M; Lorenzini, M; De Momi, E; Ajou...</td>\n",
       "      <td>2022</td>\n",
       "    </tr>\n",
       "  </tbody>\n",
       "</table>\n",
       "</div>"
      ],
      "text/plain": [
       "                                               Title  \\\n",
       "0  Cognitive Manufacturing in Industry 4.0 toward...   \n",
       "1  An Online Framework for Cognitive Load Assessm...   \n",
       "\n",
       "                                            Abstract  \\\n",
       "0  Cognitive manufacturing utilizes cognitive com...   \n",
       "1  The ongoing trend toward Industry 4.0 has revo...   \n",
       "\n",
       "                                            Keywords  \\\n",
       "0  Industry 4.0; cognitive manufacturing; cogniti...   \n",
       "1  Cognitive ergonomics; Cognitive manufacturing;...   \n",
       "\n",
       "                          DOI  \\\n",
       "0          10.3390/asi3040055   \n",
       "1  10.1016/j.rcim.2022.102380   \n",
       "\n",
       "                                             Authors  Year  \n",
       "0  Carvalho, AV; Chouchene, A; Lima, TM; Charrua-...  2020  \n",
       "1  Lagomarsino, M; Lorenzini, M; De Momi, E; Ajou...  2022  "
      ]
     },
     "execution_count": 10,
     "metadata": {},
     "output_type": "execute_result"
    }
   ],
   "source": [
    "concatenated_df.head(2)"
   ]
  },
  {
   "cell_type": "code",
   "execution_count": null,
   "metadata": {},
   "outputs": [
    {
     "data": {
      "text/plain": [
       "3649"
      ]
     },
     "execution_count": 11,
     "metadata": {},
     "output_type": "execute_result"
    }
   ],
   "source": [
    "concatenated_df"
   ]
  },
  {
   "cell_type": "code",
   "execution_count": null,
   "metadata": {},
   "outputs": [],
   "source": [
    "concatenated_df.dropna()"
   ]
  }
 ],
 "metadata": {
  "kernelspec": {
   "display_name": "NAMRC",
   "language": "python",
   "name": "python3"
  },
  "language_info": {
   "codemirror_mode": {
    "name": "ipython",
    "version": 3
   },
   "file_extension": ".py",
   "mimetype": "text/x-python",
   "name": "python",
   "nbconvert_exporter": "python",
   "pygments_lexer": "ipython3",
   "version": "3.11.10"
  }
 },
 "nbformat": 4,
 "nbformat_minor": 2
}
