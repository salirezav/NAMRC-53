{
 "cells": [
  {
   "cell_type": "code",
   "execution_count": 5,
   "metadata": {},
   "outputs": [],
   "source": [
    "import os \n",
    "import pandas as pd\n",
    "from unpywall import Unpywall\n",
    "from unpywall.utils import UnpywallCredentials\n",
    "import requests"
   ]
  },
  {
   "cell_type": "code",
   "execution_count": 6,
   "metadata": {},
   "outputs": [],
   "source": [
    "combined_df = pd.read_csv(\"./COMBINED.csv\")"
   ]
  },
  {
   "cell_type": "code",
   "execution_count": 7,
   "metadata": {},
   "outputs": [],
   "source": [
    "# Create a folder for downloads\n",
    "os.makedirs(\"./downloads\", exist_ok=True)\n",
    "UnpywallCredentials(\"sv22900@uga.edu\")\n",
    "# export UNPAYWALL_EMAIL=your_email@example.com\n",
    "\n",
    "# Initialize Unpywall\n",
    "unpywall = Unpywall()"
   ]
  },
  {
   "cell_type": "code",
   "execution_count": null,
   "metadata": {},
   "outputs": [
    {
     "data": {
      "text/plain": [
       "Unnamed: 0                                                          1\n",
       "Title               AGE AND GENDER BASED WORKLOAD CONSTRAINT FOR A...\n",
       "Abstract            This paper investigates Assembly Line Worker A...\n",
       "Authors                                  Efe, B; Kremer, GEO; Kurt, M\n",
       "Keywords            {'physical workload', 'disabled workers', 'ass...\n",
       "DOI                                                               NaN\n",
       "ISSN                                                        1943-670X\n",
       "Publication Year                                                 2018\n",
       "Name: 1, dtype: object"
      ]
     },
     "execution_count": 39,
     "metadata": {},
     "output_type": "execute_result"
    }
   ],
   "source": [
    "combined_df[combined_df[\"DOI\"].isna()]"
   ]
  },
  {
   "cell_type": "code",
   "execution_count": null,
   "metadata": {},
   "outputs": [],
   "source": [
    "\n",
    "result = unpywall.doi(dois=[doi])\n",
    "display(result)"
   ]
  },
  {
   "cell_type": "code",
   "execution_count": 36,
   "metadata": {},
   "outputs": [],
   "source": [
    "unpywall.download_pdf_file(doi,\"save.pdf\",progress=True)"
   ]
  },
  {
   "cell_type": "code",
   "execution_count": null,
   "metadata": {},
   "outputs": [],
   "source": []
  },
  {
   "cell_type": "code",
   "execution_count": 29,
   "metadata": {},
   "outputs": [
    {
     "name": "stdout",
     "output_type": "stream",
     "text": [
      "Downloaded: Human-Machine Interaction: Adapted Safety Assistance in Mentality Using Hidden Markov Chain and Petri Net\n",
      "Skipping: Invalid DOI or Title. DOI: nan, Title: AGE AND GENDER BASED WORKLOAD CONSTRAINT FOR ASSEMBLY LINE WORKER ASSIGNMENT AND BALANCING PROBLEM IN A TEXTILE FIRM\n",
      "URL is not a PDF: https://www.tandfonline.com/doi/pdf/10.1080/21693277.2022.2090458?needAccess=true\n",
      "Error processing DOI 10.1109/IC_ASET61847.2024.10596228: 'best_oa_location.url'\n",
      "Error processing DOI 10.1109/THMS.2019.2903402: 'best_oa_location.url'\n"
     ]
    }
   ],
   "source": [
    "# Function to download PDF\n",
    "def download_pdf(doi, title):\n",
    "    try:\n",
    "        # Validate DOI and Title\n",
    "        if pd.isna(doi) or pd.isna(title):\n",
    "            print(f\"Skipping: Invalid DOI or Title. DOI: {doi}, Title: {title}\")\n",
    "            return\n",
    "\n",
    "        # Retrieve metadata from Unpaywall\n",
    "        result = unpywall.doi(dois=[doi])\n",
    "        if not result.empty:\n",
    "            # Access the best open-access location URL\n",
    "            oa_location = result.iloc[0][\"best_oa_location.url\"]\n",
    "            if oa_location:\n",
    "                # Check if URL points to a PDF\n",
    "                response = requests.head(oa_location, allow_redirects=True)\n",
    "                content_type = response.headers.get(\"Content-Type\", \"\")\n",
    "                if \"application/pdf\" not in content_type:\n",
    "                    print(f\"URL is not a PDF: {oa_location}\")\n",
    "                    return\n",
    "\n",
    "                # Sanitize title for filename\n",
    "                filename = f\"{title.replace(' ', '_').replace('/', '_')}.pdf\"\n",
    "                filepath = os.path.join(\"./downloads\", filename)\n",
    "\n",
    "                # Download the PDF\n",
    "                response = requests.get(oa_location, stream=True)\n",
    "                if response.status_code == 200:\n",
    "                    with open(filepath, \"wb\") as pdf_file:\n",
    "                        for chunk in response.iter_content(chunk_size=1024):\n",
    "                            if chunk:\n",
    "                                pdf_file.write(chunk)\n",
    "                    print(f\"Downloaded: {title}\")\n",
    "                else:\n",
    "                    print(f\"Failed to download PDF for DOI: {doi} (HTTP {response.status_code})\")\n",
    "            else:\n",
    "                print(f\"No PDF URL found for DOI: {doi}\")\n",
    "        else:\n",
    "            print(f\"No data found for DOI: {doi}\")\n",
    "    except Exception as e:\n",
    "        print(f\"Error processing DOI {doi}: {e}\")\n",
    "\n",
    "\n",
    "# Iterate through DOIs in the DataFrame\n",
    "for index, row in combined_df[:5].iterrows():\n",
    "    doi = row.get(\"DOI\", None)\n",
    "    title = row.get(\"Title\", None)\n",
    "    download_pdf(doi, title)"
   ]
  },
  {
   "cell_type": "code",
   "execution_count": 18,
   "metadata": {},
   "outputs": [
    {
     "data": {
      "text/plain": [
       "['https://www.mdpi.com/2076-3417/9/23/5066/pdf?version=1575369748']"
      ]
     },
     "execution_count": 18,
     "metadata": {},
     "output_type": "execute_result"
    }
   ],
   "source": [
    "Unpywall.get_all_links(doi=combined_df.loc[0][\"DOI\"])"
   ]
  },
  {
   "cell_type": "code",
   "execution_count": null,
   "metadata": {},
   "outputs": [],
   "source": [
    "def get_open_access_pdf(doi):\n",
    "    try:\n",
    "        response = unpaywall.get(doi)\n",
    "        oa_link = response.get(\"best_oa_location\", {}).get(\"url_for_pdf\", None)\n",
    "        return oa_link\n",
    "    except Exception as e:\n",
    "        return None\n",
    "\n",
    "\n",
    "# Example usage\n",
    "df[\"PDF_Link\"] = df[\"DOI\"].apply(get_open_access_pdf)"
   ]
  }
 ],
 "metadata": {
  "kernelspec": {
   "display_name": "NAMRC",
   "language": "python",
   "name": "python3"
  },
  "language_info": {
   "codemirror_mode": {
    "name": "ipython",
    "version": 3
   },
   "file_extension": ".py",
   "mimetype": "text/x-python",
   "name": "python",
   "nbconvert_exporter": "python",
   "pygments_lexer": "ipython3",
   "version": "3.11.10"
  }
 },
 "nbformat": 4,
 "nbformat_minor": 2
}
