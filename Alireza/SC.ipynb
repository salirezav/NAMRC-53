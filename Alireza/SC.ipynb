{
 "cells": [
  {
   "cell_type": "code",
   "execution_count": 17,
   "metadata": {},
   "outputs": [],
   "source": [
    "import os\n",
    "import pandas as pd\n",
    "import numpy as np\n",
    "from matplotlib import pyplot as plt\n",
    "import rispy\n",
    "from glob import glob"
   ]
  },
  {
   "cell_type": "code",
   "execution_count": 18,
   "metadata": {},
   "outputs": [],
   "source": [
    "SC_papers = pd.read_csv(\"./Scopus/scopus.csv\")"
   ]
  },
  {
   "cell_type": "code",
   "execution_count": 19,
   "metadata": {},
   "outputs": [],
   "source": [
    "SC_papers.drop(columns=\"Unnamed: 0\", inplace=True)"
   ]
  },
  {
   "cell_type": "code",
   "execution_count": 20,
   "metadata": {},
   "outputs": [],
   "source": [
    "SC_papers.loc[SC_papers[\"Authors\"].isna(), \"Authors\"] = \"Goo-Young Kim, Changha Lee, Junwoo Lim, Sang Do Noh\""
   ]
  },
  {
   "cell_type": "code",
   "execution_count": 21,
   "metadata": {},
   "outputs": [
    {
     "data": {
      "text/plain": [
       "'Goo-Young Kim, Changha Lee, Junwoo Lim, Sang Do Noh'"
      ]
     },
     "execution_count": 21,
     "metadata": {},
     "output_type": "execute_result"
    }
   ],
   "source": [
    "SC_papers.iloc[197][\"Authors\"]"
   ]
  },
  {
   "cell_type": "code",
   "execution_count": 22,
   "metadata": {},
   "outputs": [],
   "source": [
    "SC_papers.rename(columns={\"Title\": \"Article Title\", \"Source title\": \"Source Title\", \"Year\": \"Publication Year\"}, inplace=True)"
   ]
  },
  {
   "cell_type": "code",
   "execution_count": 23,
   "metadata": {},
   "outputs": [
    {
     "data": {
      "text/plain": [
       "Index(['Authors', 'Author full names', 'Author(s) ID', 'Article Title',\n",
       "       'Publication Year', 'Source Title', 'Volume', 'Issue', 'Art. No.',\n",
       "       'Page start', 'Page end', 'Page count', 'Cited by', 'DOI', 'Link',\n",
       "       'Affiliations', 'Authors with affiliations', 'Abstract',\n",
       "       'Author Keywords', 'Index Keywords', 'Molecular Sequence Numbers',\n",
       "       'Chemicals/CAS', 'Tradenames', 'Manufacturers', 'Funding Details',\n",
       "       'Funding Texts', 'References', 'Correspondence Address', 'Editors',\n",
       "       'Publisher', 'Sponsors', 'Conference name', 'Conference date',\n",
       "       'Conference location', 'Conference code', 'ISSN', 'ISBN', 'CODEN',\n",
       "       'PubMed ID', 'Language of Original Document',\n",
       "       'Abbreviated Source Title', 'Document Type', 'Publication Stage',\n",
       "       'Open Access', 'Source', 'EID', 'Keywords'],\n",
       "      dtype='object')"
      ]
     },
     "execution_count": 23,
     "metadata": {},
     "output_type": "execute_result"
    }
   ],
   "source": [
    "SC_papers.columns"
   ]
  },
  {
   "cell_type": "code",
   "execution_count": 24,
   "metadata": {},
   "outputs": [],
   "source": [
    "# Merge 'Author Keywords' and 'Index Keywords' in SC_papers\n",
    "SC_papers[\"Keywords\"] = SC_papers[\"Author Keywords\"].fillna(\"\") + \"; \" + SC_papers[\"Index Keywords\"].fillna(\"\")\n",
    "SC_papers[\"Keywords\"] = SC_papers[\"Keywords\"].str.strip(\"; \")"
   ]
  },
  {
   "cell_type": "code",
   "execution_count": 25,
   "metadata": {},
   "outputs": [],
   "source": [
    "SC_papers = SC_papers.rename(columns={\"Article Title\": \"Title\", \"Abstract\": \"Abstract\", \"Authors\": \"Authors\", \"DOI\": \"DOI\", \"ISSN\": \"ISSN\", \"Publication Year\": \"Publication Year\"})"
   ]
  },
  {
   "cell_type": "code",
   "execution_count": 16,
   "metadata": {},
   "outputs": [],
   "source": [
    "SC_papers.to_csv(\"./Scopus/scopus.csv\", encoding=\"UTF-8\")"
   ]
  }
 ],
 "metadata": {
  "kernelspec": {
   "display_name": "NAMRC",
   "language": "python",
   "name": "python3"
  },
  "language_info": {
   "codemirror_mode": {
    "name": "ipython",
    "version": 3
   },
   "file_extension": ".py",
   "mimetype": "text/x-python",
   "name": "python",
   "nbconvert_exporter": "python",
   "pygments_lexer": "ipython3",
   "version": "3.11.10"
  }
 },
 "nbformat": 4,
 "nbformat_minor": 2
}
